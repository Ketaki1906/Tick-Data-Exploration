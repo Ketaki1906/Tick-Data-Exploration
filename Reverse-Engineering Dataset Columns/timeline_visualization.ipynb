{
 "cells": [
  {
   "cell_type": "markdown",
   "id": "bb8e133f",
   "metadata": {},
   "source": [
    "# Timeline Visualisation"
   ]
  },
  {
   "cell_type": "markdown",
   "id": "87f8bb50",
   "metadata": {},
   "source": [
    "This notebook reconstructs how events flowed through the worker system and visualise the processing timeline."
   ]
  },
  {
   "cell_type": "markdown",
   "id": "8aaff7c0",
   "metadata": {},
   "source": [
    "### Libraries"
   ]
  },
  {
   "cell_type": "code",
   "execution_count": 21,
   "id": "55b9435a",
   "metadata": {},
   "outputs": [],
   "source": [
    "import pandas as pd\n",
    "import plotly.express as px\n",
    "import numpy as np"
   ]
  },
  {
   "cell_type": "markdown",
   "id": "45bbd339",
   "metadata": {},
   "source": [
    "### Macro Definitions"
   ]
  },
  {
   "cell_type": "code",
   "execution_count": 22,
   "id": "aa1e2892",
   "metadata": {},
   "outputs": [],
   "source": [
    "FILENAME=\"03_worker_logs.csv\"\n",
    "NUM_EVENTS_PLOTTED=20 # For better readability, restricting the number of events that get plotted on the Gantt Plot."
   ]
  },
  {
   "cell_type": "markdown",
   "id": "f852ecfb",
   "metadata": {},
   "source": [
    "### Load data"
   ]
  },
  {
   "cell_type": "code",
   "execution_count": 23,
   "id": "995915da",
   "metadata": {},
   "outputs": [],
   "source": [
    "df = pd.read_csv(FILENAME, parse_dates=['start_time', 'end_time'])"
   ]
  },
  {
   "cell_type": "markdown",
   "id": "84333bbf",
   "metadata": {},
   "source": [
    "## Overlapping processing windows"
   ]
  },
  {
   "cell_type": "code",
   "execution_count": 24,
   "id": "087de6f1",
   "metadata": {},
   "outputs": [],
   "source": [
    "# Finding race conditions or overlapping processing windows\n",
    "try:\n",
    "    df.columns = df.columns.str.strip()\n",
    "    df['start_time'] = pd.to_datetime(df['start_time'], format='ISO8601')\n",
    "    df['end_time'] = pd.to_datetime(df['end_time'], format='ISO8601')\n",
    "except Exception as e:\n",
    "    print(f\"Error processing datetime columns: {e}\")"
   ]
  },
  {
   "cell_type": "code",
   "execution_count": 25,
   "id": "a1849e92",
   "metadata": {},
   "outputs": [],
   "source": [
    "def assign_overlap_groups(event_df):\n",
    "    \n",
    "    if event_df.empty:\n",
    "        return event_df\n",
    "    \n",
    "    global global_group_id\n",
    "    \n",
    "    try:\n",
    "        start_times = event_df['start_time'].values\n",
    "        end_times = event_df['end_time'].values\n",
    "        n = len(start_times)\n",
    "        \n",
    "        overlap_groups = np.zeros(n, dtype=int)\n",
    "        current_end_time = pd.Timestamp.min\n",
    "        \n",
    "        for i in range(n):\n",
    "            if start_times[i] <= current_end_time:\n",
    "                overlap_groups[i] = global_group_id\n",
    "                current_end_time = max(current_end_time, end_times[i])\n",
    "            else:\n",
    "                global_group_id += 1\n",
    "                overlap_groups[i] = global_group_id\n",
    "                current_end_time = end_times[i]\n",
    "        \n",
    "        event_df['overlap_group'] = overlap_groups\n",
    "        \n",
    "    except Exception as e:\n",
    "        print(f\"Error assigning overlap groups for event_df: {e}\")\n",
    "        event_df['overlap_group'] = -1\n",
    "    \n",
    "    return event_df"
   ]
  },
  {
   "cell_type": "code",
   "execution_count": 26,
   "id": "005cc6b7",
   "metadata": {},
   "outputs": [
    {
     "name": "stderr",
     "output_type": "stream",
     "text": [
      "C:\\Users\\DELL\\AppData\\Local\\Temp\\ipykernel_29268\\2781186518.py:6: FutureWarning:\n",
      "\n",
      "DataFrameGroupBy.apply operated on the grouping columns. This behavior is deprecated, and in a future version of pandas the grouping columns will be excluded from the operation. Either pass `include_groups=False` to exclude the groupings or explicitly select the grouping columns after groupby to silence this warning.\n",
      "\n"
     ]
    }
   ],
   "source": [
    "try:\n",
    "    overlap_df = df.sort_values(by=['event_id', 'start_time']).reset_index(drop=True)\n",
    "    overlap_df['overlap_group'] = -1\n",
    "    global_group_id = 0\n",
    "\n",
    "    overlap_df = overlap_df.groupby('event_id', group_keys=False).apply(assign_overlap_groups).reset_index(drop=True)\n",
    "    \n",
    "except Exception as e:\n",
    "    print(f\"Error during overlap detection: {e}\")"
   ]
  },
  {
   "cell_type": "code",
   "execution_count": 27,
   "id": "dfabc5df",
   "metadata": {},
   "outputs": [
    {
     "name": "stdout",
     "output_type": "stream",
     "text": [
      "Overlapping processing windows for the same event between same or different workers:\n",
      "\n",
      "Number of overlapping events: 250\n",
      "        event_id worker_id              start_time                end_time\n",
      "0    evt_0001162  worker-3 2025-07-12 09:15:05.810 2025-07-12 09:15:05.821\n",
      "1    evt_0001162  worker-2 2025-07-12 09:15:05.810 2025-07-12 09:15:05.817\n",
      "2    evt_0001289  worker-2 2025-07-12 09:15:06.445 2025-07-12 09:15:06.459\n",
      "3    evt_0001289  worker-1 2025-07-12 09:15:06.445 2025-07-12 09:15:06.457\n",
      "4    evt_0001752  worker-3 2025-07-12 09:15:08.760 2025-07-12 09:15:08.774\n",
      "..           ...       ...                     ...                     ...\n",
      "495  evt_0069129  worker-3 2025-07-12 09:20:45.645 2025-07-12 09:20:45.656\n",
      "496  evt_0069895  worker-2 2025-07-12 09:20:49.475 2025-07-12 09:20:49.480\n",
      "497  evt_0069895  worker-1 2025-07-12 09:20:49.475 2025-07-12 09:20:49.478\n",
      "498  evt_0069915  worker-2 2025-07-12 09:20:49.575 2025-07-12 09:20:49.590\n",
      "499  evt_0069915  worker-3 2025-07-12 09:20:49.575 2025-07-12 09:20:49.587\n",
      "\n",
      "[500 rows x 4 columns]\n"
     ]
    }
   ],
   "source": [
    "try:\n",
    "    overlap_counts = overlap_df.groupby('overlap_group').size()\n",
    "    true_overlaps = overlap_counts[overlap_counts > 1]\n",
    "    num_overlaps = len(true_overlaps)\n",
    "\n",
    "    print(f\"Overlapping processing windows for the same event between same or different workers:\\n\")\n",
    "    print(f\"Number of overlapping events: {num_overlaps}\")\n",
    "\n",
    "    overlaps_rows = overlap_df[overlap_df['overlap_group'].isin(true_overlaps.index)].reset_index(drop=True)\n",
    "    print(overlaps_rows[['event_id', 'worker_id', 'start_time', 'end_time']])\n",
    "\n",
    "except Exception as e:\n",
    "    print(f\"Error analyzing overlap results: {e}\")\n"
   ]
  },
  {
   "cell_type": "markdown",
   "id": "0c517311",
   "metadata": {},
   "source": [
    "## Retried jobs"
   ]
  },
  {
   "cell_type": "code",
   "execution_count": 28,
   "id": "95a85a6f",
   "metadata": {},
   "outputs": [
    {
     "name": "stdout",
     "output_type": "stream",
     "text": [
      "Retried jobs that is non-overlapping attempts for same event by the same or different worker:\n",
      "\n",
      "Number of retried jobs: 0\n",
      "\n",
      "Retried jobs:\n",
      "Empty Dataframe\n"
     ]
    }
   ],
   "source": [
    "# Identifying Retried jobs\n",
    "try:\n",
    "    retried_df = df.sort_values(by=['event_id', 'start_time']).reset_index(drop=True)\n",
    "    retried_df['prev_end_time'] = retried_df.groupby('event_id')['end_time'].shift()\n",
    "\n",
    "    retried_df['is_retry'] = (retried_df['start_time'] > retried_df['prev_end_time'])\n",
    "\n",
    "    retried_df['is_retry'] = retried_df['is_retry'].fillna(False)\n",
    "\n",
    "    num_retries = retried_df['is_retry'].sum()\n",
    "\n",
    "    print(f\"Retried jobs that is non-overlapping attempts for same event by the same or different worker:\\n\")\n",
    "    print(f\"Number of retried jobs: {int(num_retries)}\\n\")\n",
    "\n",
    "    retried_rows = retried_df[retried_df['is_retry']]\n",
    "    print(\"Retried jobs:\")\n",
    "    if retried_rows.empty:\n",
    "        print(\"Empty Dataframe\")\n",
    "    else:\n",
    "        print(retried_rows[['event_id', 'worker_id', 'start_time', 'end_time']])\n",
    "    \n",
    "except Exception as e:\n",
    "    print(f\"Error identifying retried jobs: {e}\")"
   ]
  },
  {
   "cell_type": "markdown",
   "id": "a40c9ac9",
   "metadata": {},
   "source": [
    "## Events that failed"
   ]
  },
  {
   "cell_type": "code",
   "execution_count": 29,
   "id": "7626ca66",
   "metadata": {},
   "outputs": [
    {
     "name": "stdout",
     "output_type": "stream",
     "text": [
      "\n",
      "All the failed events (that is job status is not success):\n",
      "\n",
      "Number of Failed Events : 100\n",
      "\n",
      "Failed Events:\n",
      "          event_id worker_id              start_time end_time   status\n",
      "247    evt_0000247  worker-3 2025-07-12 09:15:01.235      NaT  timeout\n",
      "1204   evt_0001203  worker-1 2025-07-12 09:15:06.015      NaT  timeout\n",
      "1745   evt_0001743  worker-2 2025-07-12 09:15:08.715      NaT  timeout\n",
      "1887   evt_0001884  worker-1 2025-07-12 09:15:09.420      NaT  timeout\n",
      "2047   evt_0002043  worker-2 2025-07-12 09:15:10.215      NaT  timeout\n",
      "...            ...       ...                     ...      ...      ...\n",
      "65102  evt_0064868  worker-1 2025-07-12 09:20:24.340      NaT  timeout\n",
      "65376  evt_0065142  worker-3 2025-07-12 09:20:25.710      NaT  timeout\n",
      "66176  evt_0065938  worker-2 2025-07-12 09:20:29.690      NaT  timeout\n",
      "67220  evt_0066980  worker-2 2025-07-12 09:20:34.900      NaT  timeout\n",
      "70018  evt_0069770  worker-3 2025-07-12 09:20:48.850      NaT  timeout\n",
      "\n",
      "[100 rows x 5 columns]\n"
     ]
    }
   ],
   "source": [
    "# Identifying failed events\n",
    "try:\n",
    "    failed_events = df[df['status'] != 'success']\n",
    "\n",
    "    print(f\"\\nAll the failed events (that is job status is not success):\\n\")\n",
    "    print(f\"Number of Failed Events : {len(failed_events)}\\n\")\n",
    "    print(f\"Failed Events:\")\n",
    "    print(failed_events[['event_id', 'worker_id', 'start_time', 'end_time', 'status']])\n",
    "    \n",
    "except Exception as e:\n",
    "    print(f\"Error identifying failed jobs: {e}\")"
   ]
  },
  {
   "cell_type": "markdown",
   "id": "5a1a7d5a",
   "metadata": {},
   "source": [
    "## Gantt chart per worker"
   ]
  },
  {
   "cell_type": "code",
   "execution_count": 30,
   "id": "837083cd",
   "metadata": {},
   "outputs": [
    {
     "data": {
      "application/vnd.plotly.v1+json": {
       "config": {
        "plotlyServerURL": "https://plot.ly"
       },
       "data": [
        {
         "base": [
          "2025-07-12T09:15:00.000000000",
          "2025-07-12T09:15:00.005000000",
          "2025-07-12T09:15:00.010000000",
          "2025-07-12T09:15:00.015000000",
          "2025-07-12T09:15:00.020000000",
          "2025-07-12T09:15:00.025000000",
          "2025-07-12T09:15:00.030000000",
          "2025-07-12T09:15:00.035000000",
          "2025-07-12T09:15:00.040000000",
          "2025-07-12T09:15:00.045000000",
          "2025-07-12T09:15:00.050000000",
          "2025-07-12T09:15:00.055000000",
          "2025-07-12T09:15:00.060000000",
          "2025-07-12T09:15:00.065000000",
          "2025-07-12T09:15:00.070000000",
          "2025-07-12T09:15:00.075000000",
          "2025-07-12T09:15:00.080000000",
          "2025-07-12T09:15:00.085000000",
          "2025-07-12T09:15:00.090000000",
          "2025-07-12T09:15:00.095000000"
         ],
         "hovertemplate": "status=success<br>start_time=%{base}<br>end_time=%{x}<br>worker_id=%{y}<br>event_id=%{text}<extra></extra>",
         "insidetextanchor": "start",
         "legendgroup": "success",
         "marker": {
          "color": "#636efa",
          "line": {
           "color": "black",
           "width": 0.5
          },
          "pattern": {
           "shape": ""
          }
         },
         "name": "success",
         "orientation": "h",
         "showlegend": true,
         "text": [
          "evt_0000000",
          "evt_0000001",
          "evt_0000002",
          "evt_0000003",
          "evt_0000004",
          "evt_0000005",
          "evt_0000006",
          "evt_0000007",
          "evt_0000008",
          "evt_0000009",
          "evt_0000010",
          "evt_0000011",
          "evt_0000012",
          "evt_0000013",
          "evt_0000014",
          "evt_0000015",
          "evt_0000016",
          "evt_0000017",
          "evt_0000018",
          "evt_0000019"
         ],
         "textposition": "inside",
         "type": "bar",
         "x": {
          "bdata": "BQcMCwMDBwcMBgMECwcHDAQDDAY=",
          "dtype": "i1"
         },
         "xaxis": "x",
         "y": [
          "worker-2",
          "worker-1",
          "worker-3",
          "worker-1",
          "worker-3",
          "worker-3",
          "worker-1",
          "worker-1",
          "worker-2",
          "worker-1",
          "worker-1",
          "worker-2",
          "worker-3",
          "worker-1",
          "worker-2",
          "worker-1",
          "worker-1",
          "worker-1",
          "worker-1",
          "worker-2"
         ],
         "yaxis": "y"
        }
       ],
       "layout": {
        "barmode": "overlay",
        "font": {
         "size": 12
        },
        "height": 700,
        "legend": {
         "title": {
          "text": "Status"
         },
         "tracegroupgap": 0
        },
        "margin": {
         "b": 50,
         "l": 80,
         "r": 50,
         "t": 80
        },
        "template": {
         "data": {
          "bar": [
           {
            "error_x": {
             "color": "#2a3f5f"
            },
            "error_y": {
             "color": "#2a3f5f"
            },
            "marker": {
             "line": {
              "color": "#E5ECF6",
              "width": 0.5
             },
             "pattern": {
              "fillmode": "overlay",
              "size": 10,
              "solidity": 0.2
             }
            },
            "type": "bar"
           }
          ],
          "barpolar": [
           {
            "marker": {
             "line": {
              "color": "#E5ECF6",
              "width": 0.5
             },
             "pattern": {
              "fillmode": "overlay",
              "size": 10,
              "solidity": 0.2
             }
            },
            "type": "barpolar"
           }
          ],
          "carpet": [
           {
            "aaxis": {
             "endlinecolor": "#2a3f5f",
             "gridcolor": "white",
             "linecolor": "white",
             "minorgridcolor": "white",
             "startlinecolor": "#2a3f5f"
            },
            "baxis": {
             "endlinecolor": "#2a3f5f",
             "gridcolor": "white",
             "linecolor": "white",
             "minorgridcolor": "white",
             "startlinecolor": "#2a3f5f"
            },
            "type": "carpet"
           }
          ],
          "choropleth": [
           {
            "colorbar": {
             "outlinewidth": 0,
             "ticks": ""
            },
            "type": "choropleth"
           }
          ],
          "contour": [
           {
            "colorbar": {
             "outlinewidth": 0,
             "ticks": ""
            },
            "colorscale": [
             [
              0,
              "#0d0887"
             ],
             [
              0.1111111111111111,
              "#46039f"
             ],
             [
              0.2222222222222222,
              "#7201a8"
             ],
             [
              0.3333333333333333,
              "#9c179e"
             ],
             [
              0.4444444444444444,
              "#bd3786"
             ],
             [
              0.5555555555555556,
              "#d8576b"
             ],
             [
              0.6666666666666666,
              "#ed7953"
             ],
             [
              0.7777777777777778,
              "#fb9f3a"
             ],
             [
              0.8888888888888888,
              "#fdca26"
             ],
             [
              1,
              "#f0f921"
             ]
            ],
            "type": "contour"
           }
          ],
          "contourcarpet": [
           {
            "colorbar": {
             "outlinewidth": 0,
             "ticks": ""
            },
            "type": "contourcarpet"
           }
          ],
          "heatmap": [
           {
            "colorbar": {
             "outlinewidth": 0,
             "ticks": ""
            },
            "colorscale": [
             [
              0,
              "#0d0887"
             ],
             [
              0.1111111111111111,
              "#46039f"
             ],
             [
              0.2222222222222222,
              "#7201a8"
             ],
             [
              0.3333333333333333,
              "#9c179e"
             ],
             [
              0.4444444444444444,
              "#bd3786"
             ],
             [
              0.5555555555555556,
              "#d8576b"
             ],
             [
              0.6666666666666666,
              "#ed7953"
             ],
             [
              0.7777777777777778,
              "#fb9f3a"
             ],
             [
              0.8888888888888888,
              "#fdca26"
             ],
             [
              1,
              "#f0f921"
             ]
            ],
            "type": "heatmap"
           }
          ],
          "histogram": [
           {
            "marker": {
             "pattern": {
              "fillmode": "overlay",
              "size": 10,
              "solidity": 0.2
             }
            },
            "type": "histogram"
           }
          ],
          "histogram2d": [
           {
            "colorbar": {
             "outlinewidth": 0,
             "ticks": ""
            },
            "colorscale": [
             [
              0,
              "#0d0887"
             ],
             [
              0.1111111111111111,
              "#46039f"
             ],
             [
              0.2222222222222222,
              "#7201a8"
             ],
             [
              0.3333333333333333,
              "#9c179e"
             ],
             [
              0.4444444444444444,
              "#bd3786"
             ],
             [
              0.5555555555555556,
              "#d8576b"
             ],
             [
              0.6666666666666666,
              "#ed7953"
             ],
             [
              0.7777777777777778,
              "#fb9f3a"
             ],
             [
              0.8888888888888888,
              "#fdca26"
             ],
             [
              1,
              "#f0f921"
             ]
            ],
            "type": "histogram2d"
           }
          ],
          "histogram2dcontour": [
           {
            "colorbar": {
             "outlinewidth": 0,
             "ticks": ""
            },
            "colorscale": [
             [
              0,
              "#0d0887"
             ],
             [
              0.1111111111111111,
              "#46039f"
             ],
             [
              0.2222222222222222,
              "#7201a8"
             ],
             [
              0.3333333333333333,
              "#9c179e"
             ],
             [
              0.4444444444444444,
              "#bd3786"
             ],
             [
              0.5555555555555556,
              "#d8576b"
             ],
             [
              0.6666666666666666,
              "#ed7953"
             ],
             [
              0.7777777777777778,
              "#fb9f3a"
             ],
             [
              0.8888888888888888,
              "#fdca26"
             ],
             [
              1,
              "#f0f921"
             ]
            ],
            "type": "histogram2dcontour"
           }
          ],
          "mesh3d": [
           {
            "colorbar": {
             "outlinewidth": 0,
             "ticks": ""
            },
            "type": "mesh3d"
           }
          ],
          "parcoords": [
           {
            "line": {
             "colorbar": {
              "outlinewidth": 0,
              "ticks": ""
             }
            },
            "type": "parcoords"
           }
          ],
          "pie": [
           {
            "automargin": true,
            "type": "pie"
           }
          ],
          "scatter": [
           {
            "fillpattern": {
             "fillmode": "overlay",
             "size": 10,
             "solidity": 0.2
            },
            "type": "scatter"
           }
          ],
          "scatter3d": [
           {
            "line": {
             "colorbar": {
              "outlinewidth": 0,
              "ticks": ""
             }
            },
            "marker": {
             "colorbar": {
              "outlinewidth": 0,
              "ticks": ""
             }
            },
            "type": "scatter3d"
           }
          ],
          "scattercarpet": [
           {
            "marker": {
             "colorbar": {
              "outlinewidth": 0,
              "ticks": ""
             }
            },
            "type": "scattercarpet"
           }
          ],
          "scattergeo": [
           {
            "marker": {
             "colorbar": {
              "outlinewidth": 0,
              "ticks": ""
             }
            },
            "type": "scattergeo"
           }
          ],
          "scattergl": [
           {
            "marker": {
             "colorbar": {
              "outlinewidth": 0,
              "ticks": ""
             }
            },
            "type": "scattergl"
           }
          ],
          "scattermap": [
           {
            "marker": {
             "colorbar": {
              "outlinewidth": 0,
              "ticks": ""
             }
            },
            "type": "scattermap"
           }
          ],
          "scattermapbox": [
           {
            "marker": {
             "colorbar": {
              "outlinewidth": 0,
              "ticks": ""
             }
            },
            "type": "scattermapbox"
           }
          ],
          "scatterpolar": [
           {
            "marker": {
             "colorbar": {
              "outlinewidth": 0,
              "ticks": ""
             }
            },
            "type": "scatterpolar"
           }
          ],
          "scatterpolargl": [
           {
            "marker": {
             "colorbar": {
              "outlinewidth": 0,
              "ticks": ""
             }
            },
            "type": "scatterpolargl"
           }
          ],
          "scatterternary": [
           {
            "marker": {
             "colorbar": {
              "outlinewidth": 0,
              "ticks": ""
             }
            },
            "type": "scatterternary"
           }
          ],
          "surface": [
           {
            "colorbar": {
             "outlinewidth": 0,
             "ticks": ""
            },
            "colorscale": [
             [
              0,
              "#0d0887"
             ],
             [
              0.1111111111111111,
              "#46039f"
             ],
             [
              0.2222222222222222,
              "#7201a8"
             ],
             [
              0.3333333333333333,
              "#9c179e"
             ],
             [
              0.4444444444444444,
              "#bd3786"
             ],
             [
              0.5555555555555556,
              "#d8576b"
             ],
             [
              0.6666666666666666,
              "#ed7953"
             ],
             [
              0.7777777777777778,
              "#fb9f3a"
             ],
             [
              0.8888888888888888,
              "#fdca26"
             ],
             [
              1,
              "#f0f921"
             ]
            ],
            "type": "surface"
           }
          ],
          "table": [
           {
            "cells": {
             "fill": {
              "color": "#EBF0F8"
             },
             "line": {
              "color": "white"
             }
            },
            "header": {
             "fill": {
              "color": "#C8D4E3"
             },
             "line": {
              "color": "white"
             }
            },
            "type": "table"
           }
          ]
         },
         "layout": {
          "annotationdefaults": {
           "arrowcolor": "#2a3f5f",
           "arrowhead": 0,
           "arrowwidth": 1
          },
          "autotypenumbers": "strict",
          "coloraxis": {
           "colorbar": {
            "outlinewidth": 0,
            "ticks": ""
           }
          },
          "colorscale": {
           "diverging": [
            [
             0,
             "#8e0152"
            ],
            [
             0.1,
             "#c51b7d"
            ],
            [
             0.2,
             "#de77ae"
            ],
            [
             0.3,
             "#f1b6da"
            ],
            [
             0.4,
             "#fde0ef"
            ],
            [
             0.5,
             "#f7f7f7"
            ],
            [
             0.6,
             "#e6f5d0"
            ],
            [
             0.7,
             "#b8e186"
            ],
            [
             0.8,
             "#7fbc41"
            ],
            [
             0.9,
             "#4d9221"
            ],
            [
             1,
             "#276419"
            ]
           ],
           "sequential": [
            [
             0,
             "#0d0887"
            ],
            [
             0.1111111111111111,
             "#46039f"
            ],
            [
             0.2222222222222222,
             "#7201a8"
            ],
            [
             0.3333333333333333,
             "#9c179e"
            ],
            [
             0.4444444444444444,
             "#bd3786"
            ],
            [
             0.5555555555555556,
             "#d8576b"
            ],
            [
             0.6666666666666666,
             "#ed7953"
            ],
            [
             0.7777777777777778,
             "#fb9f3a"
            ],
            [
             0.8888888888888888,
             "#fdca26"
            ],
            [
             1,
             "#f0f921"
            ]
           ],
           "sequentialminus": [
            [
             0,
             "#0d0887"
            ],
            [
             0.1111111111111111,
             "#46039f"
            ],
            [
             0.2222222222222222,
             "#7201a8"
            ],
            [
             0.3333333333333333,
             "#9c179e"
            ],
            [
             0.4444444444444444,
             "#bd3786"
            ],
            [
             0.5555555555555556,
             "#d8576b"
            ],
            [
             0.6666666666666666,
             "#ed7953"
            ],
            [
             0.7777777777777778,
             "#fb9f3a"
            ],
            [
             0.8888888888888888,
             "#fdca26"
            ],
            [
             1,
             "#f0f921"
            ]
           ]
          },
          "colorway": [
           "#636efa",
           "#EF553B",
           "#00cc96",
           "#ab63fa",
           "#FFA15A",
           "#19d3f3",
           "#FF6692",
           "#B6E880",
           "#FF97FF",
           "#FECB52"
          ],
          "font": {
           "color": "#2a3f5f"
          },
          "geo": {
           "bgcolor": "white",
           "lakecolor": "white",
           "landcolor": "#E5ECF6",
           "showlakes": true,
           "showland": true,
           "subunitcolor": "white"
          },
          "hoverlabel": {
           "align": "left"
          },
          "hovermode": "closest",
          "mapbox": {
           "style": "light"
          },
          "paper_bgcolor": "white",
          "plot_bgcolor": "#E5ECF6",
          "polar": {
           "angularaxis": {
            "gridcolor": "white",
            "linecolor": "white",
            "ticks": ""
           },
           "bgcolor": "#E5ECF6",
           "radialaxis": {
            "gridcolor": "white",
            "linecolor": "white",
            "ticks": ""
           }
          },
          "scene": {
           "xaxis": {
            "backgroundcolor": "#E5ECF6",
            "gridcolor": "white",
            "gridwidth": 2,
            "linecolor": "white",
            "showbackground": true,
            "ticks": "",
            "zerolinecolor": "white"
           },
           "yaxis": {
            "backgroundcolor": "#E5ECF6",
            "gridcolor": "white",
            "gridwidth": 2,
            "linecolor": "white",
            "showbackground": true,
            "ticks": "",
            "zerolinecolor": "white"
           },
           "zaxis": {
            "backgroundcolor": "#E5ECF6",
            "gridcolor": "white",
            "gridwidth": 2,
            "linecolor": "white",
            "showbackground": true,
            "ticks": "",
            "zerolinecolor": "white"
           }
          },
          "shapedefaults": {
           "line": {
            "color": "#2a3f5f"
           }
          },
          "ternary": {
           "aaxis": {
            "gridcolor": "white",
            "linecolor": "white",
            "ticks": ""
           },
           "baxis": {
            "gridcolor": "white",
            "linecolor": "white",
            "ticks": ""
           },
           "bgcolor": "#E5ECF6",
           "caxis": {
            "gridcolor": "white",
            "linecolor": "white",
            "ticks": ""
           }
          },
          "title": {
           "x": 0.05
          },
          "xaxis": {
           "automargin": true,
           "gridcolor": "white",
           "linecolor": "white",
           "ticks": "",
           "title": {
            "standoff": 15
           },
           "zerolinecolor": "white",
           "zerolinewidth": 2
          },
          "yaxis": {
           "automargin": true,
           "gridcolor": "white",
           "linecolor": "white",
           "ticks": "",
           "title": {
            "standoff": 15
           },
           "zerolinecolor": "white",
           "zerolinewidth": 2
          }
         }
        },
        "title": {
         "font": {
          "size": 22
         },
         "text": "Worker Event Timeline (First 20 Events)"
        },
        "xaxis": {
         "anchor": "y",
         "domain": [
          0,
          1
         ],
         "title": {
          "text": "Time"
         },
         "type": "date"
        },
        "yaxis": {
         "anchor": "x",
         "autorange": "reversed",
         "domain": [
          0,
          1
         ],
         "title": {
          "text": "Worker ID"
         }
        }
       }
      }
     },
     "metadata": {},
     "output_type": "display_data"
    }
   ],
   "source": [
    "# Create the Gantt plot\n",
    "try:\n",
    "    # Selecting first 20 event_ids for plotting for better readabilty \n",
    "    selected_events = df['event_id'].dropna()[:NUM_EVENTS_PLOTTED]\n",
    "    df_subset = df[df['event_id'].isin(selected_events)].copy()\n",
    "\n",
    "    fig = px.timeline(\n",
    "        df_subset,\n",
    "        x_start=\"start_time\",\n",
    "        x_end=\"end_time\",\n",
    "        y=\"worker_id\",\n",
    "        color=\"status\", \n",
    "        text=\"event_id\",\n",
    "        title=\"Worker Event Timeline (First 20 Events)\"\n",
    "    )\n",
    "\n",
    "    fig.update_yaxes(autorange=\"reversed\")\n",
    "    fig.update_traces(\n",
    "        textposition=\"inside\",\n",
    "        insidetextanchor=\"start\",\n",
    "        marker_line_width=0.5,\n",
    "        marker_line_color=\"black\"\n",
    "    )\n",
    "\n",
    "    fig.update_layout(\n",
    "        xaxis_title=\"Time\",\n",
    "        yaxis_title=\"Worker ID\",\n",
    "        font=dict(size=12),\n",
    "        height=700,\n",
    "        margin=dict(l=80, r=50, b=50, t=80),\n",
    "        title_font_size=22,\n",
    "        legend_title_text=\"Status\"\n",
    "    )\n",
    "\n",
    "    fig.show()\n",
    "\n",
    "except Exception as e:\n",
    "    print(f\"Error generating Gantt plot: {e}\")\n"
   ]
  }
 ],
 "metadata": {
  "kernelspec": {
   "display_name": "Python 3",
   "language": "python",
   "name": "python3"
  },
  "language_info": {
   "codemirror_mode": {
    "name": "ipython",
    "version": 3
   },
   "file_extension": ".py",
   "mimetype": "text/x-python",
   "name": "python",
   "nbconvert_exporter": "python",
   "pygments_lexer": "ipython3",
   "version": "3.11.9"
  }
 },
 "nbformat": 4,
 "nbformat_minor": 5
}
